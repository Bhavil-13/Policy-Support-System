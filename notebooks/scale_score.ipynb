{
 "cells": [
  {
   "cell_type": "code",
   "execution_count": 1,
   "metadata": {},
   "outputs": [],
   "source": [
    "import pandas as pd"
   ]
  },
  {
   "cell_type": "code",
   "execution_count": 2,
   "metadata": {},
   "outputs": [],
   "source": [
    "def normalize_diss(df, col_str, nd_list, lower_lim, upper_lim):\n",
    "    for j in range(len(df)):\n",
    "        norm_dis = 0\n",
    "        norm_dis = lower_lim + (upper_lim - lower_lim)*(df[col_str][j] - min(df[col_str]))/(max(df[col_str]) - min(df[col_str]))\n",
    "        nd_list.append(norm_dis)"
   ]
  },
  {
   "cell_type": "code",
   "execution_count": 9,
   "metadata": {},
   "outputs": [],
   "source": [
    "df = pd.read_excel('zero-to-one_final_2D_score.xlsx')"
   ]
  },
  {
   "cell_type": "code",
   "execution_count": 10,
   "metadata": {},
   "outputs": [],
   "source": [
    "df_score = pd.DataFrame()\n",
    "df_score['Taluka'] = df['Taluka']\n",
    "# df['Score | ANC + 10%']"
   ]
  },
  {
   "cell_type": "code",
   "execution_count": 13,
   "metadata": {},
   "outputs": [],
   "source": [
    "temp = ['+ 2', '+ 1', '- 1', '- 2']\n",
    "for i in temp:\n",
    "    col_str = 'Score | ANC ' + i + '0%'\n",
    "    nd_list = []\n",
    "    normalize_diss(df, col_str, nd_list)\n",
    "    df_score[col_str] = nd_list"
   ]
  },
  {
   "cell_type": "code",
   "execution_count": 17,
   "metadata": {},
   "outputs": [],
   "source": [
    "df_score.to_excel('z2o_scaled_score.xlsx')"
   ]
  }
 ],
 "metadata": {
  "kernelspec": {
   "display_name": "Python 3",
   "language": "python",
   "name": "python3"
  },
  "language_info": {
   "codemirror_mode": {
    "name": "ipython",
    "version": 3
   },
   "file_extension": ".py",
   "mimetype": "text/x-python",
   "name": "python",
   "nbconvert_exporter": "python",
   "pygments_lexer": "ipython3",
   "version": "3.10.12"
  },
  "orig_nbformat": 4
 },
 "nbformat": 4,
 "nbformat_minor": 2
}
