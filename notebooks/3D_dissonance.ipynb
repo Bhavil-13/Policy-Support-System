{
 "cells": [
  {
   "cell_type": "code",
   "execution_count": 1,
   "metadata": {},
   "outputs": [],
   "source": [
    "import pandas as pd"
   ]
  },
  {
   "cell_type": "code",
   "execution_count": 2,
   "metadata": {},
   "outputs": [],
   "source": [
    "imr_head = 'IMPACT_SCORE_IMR (HM '\n",
    "mmr_head = 'IMPACT_SCORE_MMR (HM '\n",
    "paw_head = 'IMPACT_SCORE_PAW (HM '\n",
    "sh = '0%)'\n",
    "temp_list = ['- 2', '- 1', '+ 1', '+ 2']"
   ]
  },
  {
   "cell_type": "code",
   "execution_count": 3,
   "metadata": {},
   "outputs": [],
   "source": [
    "df = pd.read_excel('Scaled_3D_tableau.xlsx')"
   ]
  },
  {
   "cell_type": "code",
   "execution_count": 4,
   "metadata": {},
   "outputs": [],
   "source": [
    "def dissonance(df, i, diss_list):\n",
    "    # abs(imr - mmr)\n",
    "    for j in range(len(df)):\n",
    "        dis = abs(max(df[imr_head + i + sh][j], df[mmr_head + i + sh][j], df[paw_head + i + sh][j]) - min(df[imr_head + i + sh][j], df[mmr_head + i + sh][j], df[paw_head + i + sh][j]))\n",
    "        diss_list.append(dis)"
   ]
  },
  {
   "cell_type": "code",
   "execution_count": 5,
   "metadata": {},
   "outputs": [],
   "source": [
    "diss_df = pd.DataFrame()"
   ]
  },
  {
   "cell_type": "code",
   "execution_count": 6,
   "metadata": {},
   "outputs": [],
   "source": [
    "diss_df['District'] = df['District']"
   ]
  },
  {
   "cell_type": "code",
   "execution_count": 7,
   "metadata": {},
   "outputs": [],
   "source": [
    "for i in temp_list:\n",
    "    diss_list = []\n",
    "    dissonance(df, i, diss_list)\n",
    "    diss_df['DISSONANCE (HM' + i + '0%)'] = diss_list"
   ]
  },
  {
   "cell_type": "code",
   "execution_count": 8,
   "metadata": {},
   "outputs": [],
   "source": [
    "def normalize_diss(df, col_str, nd_list):\n",
    "    for j in range(len(df)):\n",
    "        norm_dis = 0\n",
    "        norm_dis = -1 + 2*(df[col_str][j] - min(df[col_str]))/(max(df[col_str]) - min(df[col_str]))\n",
    "        norm_dis = -1 * norm_dis\n",
    "        nd_list.append(norm_dis)"
   ]
  },
  {
   "cell_type": "code",
   "execution_count": 9,
   "metadata": {},
   "outputs": [],
   "source": [
    "normalized_dissonance_df = pd.DataFrame()\n",
    "normalized_dissonance_df['District'] = diss_df['District']"
   ]
  },
  {
   "cell_type": "code",
   "execution_count": 10,
   "metadata": {},
   "outputs": [],
   "source": [
    "for i in temp_list:\n",
    "    col_str = 'DISSONANCE (HM' + i + '0%)'\n",
    "    nd_list = []\n",
    "    normalize_diss(diss_df, col_str, nd_list)\n",
    "    normalized_dissonance_df[col_str] = nd_list"
   ]
  },
  {
   "cell_type": "code",
   "execution_count": 33,
   "metadata": {},
   "outputs": [],
   "source": [
    "normalized_dissonance_df.to_excel('final_3D_normalized_dissonance.xlsx', index=False)"
   ]
  }
 ],
 "metadata": {
  "kernelspec": {
   "display_name": "Python 3",
   "language": "python",
   "name": "python3"
  },
  "language_info": {
   "codemirror_mode": {
    "name": "ipython",
    "version": 3
   },
   "file_extension": ".py",
   "mimetype": "text/x-python",
   "name": "python",
   "nbconvert_exporter": "python",
   "pygments_lexer": "ipython3",
   "version": "3.10.12"
  },
  "orig_nbformat": 4
 },
 "nbformat": 4,
 "nbformat_minor": 2
}
